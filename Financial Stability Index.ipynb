{
 "cells": [
  {
   "cell_type": "markdown",
   "metadata": {
    "id": "i3t9Tpp-hXIZ"
   },
   "source": [
    "### Import Library"
   ]
  },
  {
   "cell_type": "code",
   "execution_count": null,
   "metadata": {
    "id": "J4tNbvzMhXI9"
   },
   "outputs": [],
   "source": [
    "import numpy as np #Operasi Matematika dan linear aljebra\n",
    "import pandas as pd #data processing\n",
    "import matplotlib.pyplot as plt #Visualisasi data\n",
    "import seaborn as sns #Visualisasi data"
   ]
  },
  {
   "cell_type": "markdown",
   "metadata": {
    "id": "MhDupMqDhXJM"
   },
   "source": [
    "### Load Datasets"
   ]
  },
  {
   "cell_type": "code",
   "execution_count": null,
   "metadata": {
    "id": "DlHdI8CYhXJN"
   },
   "outputs": [],
   "source": [
    "# loading data with pandas read_csv\n",
    "data = pd.read_csv('Indeks Stabilitas Keuangan.csv',sep=\";\")"
   ]
  },
  {
   "cell_type": "code",
   "execution_count": null,
   "metadata": {
    "id": "kpcWYWl4hXJO",
    "outputId": "b2d22b5c-225f-42d5-aa09-e70c754f1ae9"
   },
   "outputs": [
    {
     "data": {
      "text/plain": [
       "(50, 6)"
      ]
     },
     "execution_count": 3,
     "metadata": {
      "tags": []
     },
     "output_type": "execute_result"
    }
   ],
   "source": [
    "#Cek dimensi data\n",
    "data.shape"
   ]
  },
  {
   "cell_type": "code",
   "execution_count": null,
   "metadata": {
    "id": "maLt2khLhXJT",
    "outputId": "1bf1c1d9-cf89-403e-8aef-9f3fcbd007ae"
   },
   "outputs": [
    {
     "data": {
      "text/html": [
       "<div>\n",
       "<style scoped>\n",
       "    .dataframe tbody tr th:only-of-type {\n",
       "        vertical-align: middle;\n",
       "    }\n",
       "\n",
       "    .dataframe tbody tr th {\n",
       "        vertical-align: top;\n",
       "    }\n",
       "\n",
       "    .dataframe thead th {\n",
       "        text-align: right;\n",
       "    }\n",
       "</style>\n",
       "<table border=\"1\" class=\"dataframe\">\n",
       "  <thead>\n",
       "    <tr style=\"text-align: right;\">\n",
       "      <th></th>\n",
       "      <th>Indeks stabilitas sistem keuangan</th>\n",
       "      <th>IHSG</th>\n",
       "      <th>IHPR</th>\n",
       "      <th>Perkembangan Kredit</th>\n",
       "      <th>Kurs</th>\n",
       "      <th>Jumlah uang  beredar</th>\n",
       "    </tr>\n",
       "  </thead>\n",
       "  <tbody>\n",
       "    <tr>\n",
       "      <th>0</th>\n",
       "      <td>0.96</td>\n",
       "      <td>2598.33</td>\n",
       "      <td>131.89</td>\n",
       "      <td>1158.72</td>\n",
       "      <td>9.59</td>\n",
       "      <td>1991.58</td>\n",
       "    </tr>\n",
       "    <tr>\n",
       "      <th>1</th>\n",
       "      <td>0.96</td>\n",
       "      <td>416.67</td>\n",
       "      <td>135.89</td>\n",
       "      <td>133.03</td>\n",
       "      <td>8.48</td>\n",
       "      <td>684.34</td>\n",
       "    </tr>\n",
       "    <tr>\n",
       "      <th>2</th>\n",
       "      <td>1.06</td>\n",
       "      <td>1069.48</td>\n",
       "      <td>124.97</td>\n",
       "      <td>446.02</td>\n",
       "      <td>9.10</td>\n",
       "      <td>1016.24</td>\n",
       "    </tr>\n",
       "    <tr>\n",
       "      <th>3</th>\n",
       "      <td>0.92</td>\n",
       "      <td>385.33</td>\n",
       "      <td>137.47</td>\n",
       "      <td>308.06</td>\n",
       "      <td>7.25</td>\n",
       "      <td>577.38</td>\n",
       "    </tr>\n",
       "    <tr>\n",
       "      <th>4</th>\n",
       "      <td>1.04</td>\n",
       "      <td>2645.71</td>\n",
       "      <td>132.79</td>\n",
       "      <td>1217.66</td>\n",
       "      <td>9.63</td>\n",
       "      <td>2075.04</td>\n",
       "    </tr>\n",
       "  </tbody>\n",
       "</table>\n",
       "</div>"
      ],
      "text/plain": [
       "   Indeks stabilitas sistem keuangan     IHSG    IHPR  Perkembangan Kredit  \\\n",
       "0                               0.96  2598.33  131.89              1158.72   \n",
       "1                               0.96   416.67  135.89               133.03   \n",
       "2                               1.06  1069.48  124.97               446.02   \n",
       "3                               0.92   385.33  137.47               308.06   \n",
       "4                               1.04  2645.71  132.79              1217.66   \n",
       "\n",
       "   Kurs  Jumlah uang  beredar  \n",
       "0  9.59               1991.58  \n",
       "1  8.48                684.34  \n",
       "2  9.10               1016.24  \n",
       "3  7.25                577.38  \n",
       "4  9.63               2075.04  "
      ]
     },
     "execution_count": 4,
     "metadata": {
      "tags": []
     },
     "output_type": "execute_result"
    }
   ],
   "source": [
    "#Melihat 5 data pertama\n",
    "data.head()"
   ]
  },
  {
   "cell_type": "code",
   "execution_count": null,
   "metadata": {
    "id": "gEBkiZ9KhXJV",
    "outputId": "2a1598bd-8795-41ef-eb86-ea64508c99f2"
   },
   "outputs": [
    {
     "name": "stdout",
     "output_type": "stream",
     "text": [
      "<class 'pandas.core.frame.DataFrame'>\n",
      "RangeIndex: 50 entries, 0 to 49\n",
      "Data columns (total 6 columns):\n",
      " #   Column                             Non-Null Count  Dtype  \n",
      "---  ------                             --------------  -----  \n",
      " 0   Indeks stabilitas sistem keuangan  50 non-null     float64\n",
      " 1   IHSG                               50 non-null     float64\n",
      " 2   IHPR                               50 non-null     float64\n",
      " 3   Perkembangan Kredit                50 non-null     float64\n",
      " 4   Kurs                               50 non-null     float64\n",
      " 5   Jumlah uang  beredar               50 non-null     float64\n",
      "dtypes: float64(6)\n",
      "memory usage: 2.5 KB\n"
     ]
    }
   ],
   "source": [
    "#Memahami info masing-masing variabel\n",
    "data.info()"
   ]
  },
  {
   "cell_type": "code",
   "execution_count": null,
   "metadata": {
    "id": "mVY8QU-AhXJb",
    "outputId": "086bbfc9-6e2d-4eef-ff0d-3e5a0a5ca5d7"
   },
   "outputs": [
    {
     "data": {
      "text/html": [
       "<div>\n",
       "<style scoped>\n",
       "    .dataframe tbody tr th:only-of-type {\n",
       "        vertical-align: middle;\n",
       "    }\n",
       "\n",
       "    .dataframe tbody tr th {\n",
       "        vertical-align: top;\n",
       "    }\n",
       "\n",
       "    .dataframe thead th {\n",
       "        text-align: right;\n",
       "    }\n",
       "</style>\n",
       "<table border=\"1\" class=\"dataframe\">\n",
       "  <thead>\n",
       "    <tr style=\"text-align: right;\">\n",
       "      <th></th>\n",
       "      <th>Indeks stabilitas sistem keuangan</th>\n",
       "      <th>IHSG</th>\n",
       "      <th>IHPR</th>\n",
       "      <th>Perkembangan Kredit</th>\n",
       "      <th>Kurs</th>\n",
       "      <th>Jumlah uang  beredar</th>\n",
       "    </tr>\n",
       "  </thead>\n",
       "  <tbody>\n",
       "    <tr>\n",
       "      <th>count</th>\n",
       "      <td>50.000000</td>\n",
       "      <td>50.000000</td>\n",
       "      <td>50.000000</td>\n",
       "      <td>50.00000</td>\n",
       "      <td>50.000000</td>\n",
       "      <td>50.000000</td>\n",
       "    </tr>\n",
       "    <tr>\n",
       "      <th>mean</th>\n",
       "      <td>0.965200</td>\n",
       "      <td>2607.165400</td>\n",
       "      <td>150.964600</td>\n",
       "      <td>1965.57500</td>\n",
       "      <td>10.201800</td>\n",
       "      <td>2179.935000</td>\n",
       "    </tr>\n",
       "    <tr>\n",
       "      <th>std</th>\n",
       "      <td>0.141078</td>\n",
       "      <td>1907.860695</td>\n",
       "      <td>21.987873</td>\n",
       "      <td>4086.69641</td>\n",
       "      <td>1.816446</td>\n",
       "      <td>1470.262341</td>\n",
       "    </tr>\n",
       "    <tr>\n",
       "      <th>min</th>\n",
       "      <td>0.700000</td>\n",
       "      <td>366.670000</td>\n",
       "      <td>121.000000</td>\n",
       "      <td>133.03000</td>\n",
       "      <td>7.230000</td>\n",
       "      <td>216.370000</td>\n",
       "    </tr>\n",
       "    <tr>\n",
       "      <th>25%</th>\n",
       "      <td>0.902500</td>\n",
       "      <td>603.585000</td>\n",
       "      <td>136.260000</td>\n",
       "      <td>308.79250</td>\n",
       "      <td>9.005000</td>\n",
       "      <td>880.702500</td>\n",
       "    </tr>\n",
       "    <tr>\n",
       "      <th>50%</th>\n",
       "      <td>0.980000</td>\n",
       "      <td>2622.020000</td>\n",
       "      <td>144.495000</td>\n",
       "      <td>1188.19000</td>\n",
       "      <td>9.610000</td>\n",
       "      <td>1784.050000</td>\n",
       "    </tr>\n",
       "    <tr>\n",
       "      <th>75%</th>\n",
       "      <td>1.060000</td>\n",
       "      <td>4367.180000</td>\n",
       "      <td>157.137500</td>\n",
       "      <td>2450.83250</td>\n",
       "      <td>11.577500</td>\n",
       "      <td>3372.795000</td>\n",
       "    </tr>\n",
       "    <tr>\n",
       "      <th>max</th>\n",
       "      <td>1.240000</td>\n",
       "      <td>5419.450000</td>\n",
       "      <td>194.540000</td>\n",
       "      <td>29004.09000</td>\n",
       "      <td>14.060000</td>\n",
       "      <td>4884.040000</td>\n",
       "    </tr>\n",
       "  </tbody>\n",
       "</table>\n",
       "</div>"
      ],
      "text/plain": [
       "       Indeks stabilitas sistem keuangan         IHSG        IHPR  \\\n",
       "count                          50.000000    50.000000   50.000000   \n",
       "mean                            0.965200  2607.165400  150.964600   \n",
       "std                             0.141078  1907.860695   21.987873   \n",
       "min                             0.700000   366.670000  121.000000   \n",
       "25%                             0.902500   603.585000  136.260000   \n",
       "50%                             0.980000  2622.020000  144.495000   \n",
       "75%                             1.060000  4367.180000  157.137500   \n",
       "max                             1.240000  5419.450000  194.540000   \n",
       "\n",
       "       Perkembangan Kredit       Kurs  Jumlah uang  beredar  \n",
       "count             50.00000  50.000000             50.000000  \n",
       "mean            1965.57500  10.201800           2179.935000  \n",
       "std             4086.69641   1.816446           1470.262341  \n",
       "min              133.03000   7.230000            216.370000  \n",
       "25%              308.79250   9.005000            880.702500  \n",
       "50%             1188.19000   9.610000           1784.050000  \n",
       "75%             2450.83250  11.577500           3372.795000  \n",
       "max            29004.09000  14.060000           4884.040000  "
      ]
     },
     "execution_count": 6,
     "metadata": {
      "tags": []
     },
     "output_type": "execute_result"
    }
   ],
   "source": [
    "#Melihat ringkasan 5 angka dari data\n",
    "data.describe()"
   ]
  },
  {
   "cell_type": "markdown",
   "metadata": {
    "id": "EtHm3cmKhXJd"
   },
   "source": [
    "### Data Preprocessing"
   ]
  },
  {
   "cell_type": "markdown",
   "metadata": {
    "id": "tnfoQTslhXJg"
   },
   "source": [
    "#### Cek Tipe Data"
   ]
  },
  {
   "cell_type": "code",
   "execution_count": null,
   "metadata": {
    "id": "0yotKBTnhXJh",
    "outputId": "d8f3b422-498e-41e6-a5ae-7db2a7b15ba9"
   },
   "outputs": [
    {
     "data": {
      "text/plain": [
       "Indeks stabilitas sistem keuangan    float64\n",
       "IHSG                                 float64\n",
       "IHPR                                 float64\n",
       "Perkembangan Kredit                  float64\n",
       "Kurs                                 float64\n",
       "Jumlah uang  beredar                 float64\n",
       "dtype: object"
      ]
     },
     "execution_count": 7,
     "metadata": {
      "tags": []
     },
     "output_type": "execute_result"
    }
   ],
   "source": [
    "data.dtypes"
   ]
  },
  {
   "cell_type": "markdown",
   "metadata": {
    "id": "Y-vgLR0MhXJi"
   },
   "source": [
    "#### Cek Duplikat data"
   ]
  },
  {
   "cell_type": "code",
   "execution_count": null,
   "metadata": {
    "id": "anRiJNPMhXJk",
    "outputId": "a70f35f1-dbfb-4c23-ef1d-8fc8829551f9"
   },
   "outputs": [
    {
     "data": {
      "text/plain": [
       "(50, 6)"
      ]
     },
     "execution_count": 8,
     "metadata": {
      "tags": []
     },
     "output_type": "execute_result"
    }
   ],
   "source": [
    "#Drop duplicate value\n",
    "data.drop_duplicates(inplace=True)\n",
    "data.shape"
   ]
  },
  {
   "cell_type": "markdown",
   "metadata": {
    "id": "l4V_JT7OhXJs"
   },
   "source": [
    "#### Cek Missing Value"
   ]
  },
  {
   "cell_type": "code",
   "execution_count": null,
   "metadata": {
    "id": "Mtqky0GwhXJt",
    "outputId": "20e1846e-8bd6-488f-f49e-bdcfdf5da092"
   },
   "outputs": [
    {
     "data": {
      "text/plain": [
       "Indeks stabilitas sistem keuangan    0\n",
       "IHSG                                 0\n",
       "IHPR                                 0\n",
       "Perkembangan Kredit                  0\n",
       "Kurs                                 0\n",
       "Jumlah uang  beredar                 0\n",
       "dtype: int64"
      ]
     },
     "execution_count": 9,
     "metadata": {
      "tags": []
     },
     "output_type": "execute_result"
    }
   ],
   "source": [
    "data.isnull().sum()"
   ]
  },
  {
   "cell_type": "markdown",
   "metadata": {
    "id": "Pit6ohtjhXJu"
   },
   "source": [
    "### Cek Outlier"
   ]
  },
  {
   "cell_type": "code",
   "execution_count": null,
   "metadata": {
    "id": "kUlk6T3qhXJv",
    "outputId": "2032921e-c8c0-4ba7-8980-64d0bce7b792"
   },
   "outputs": [
    {
     "name": "stderr",
     "output_type": "stream",
     "text": [
      "C:\\Users\\nanah\\anaconda3\\lib\\site-packages\\seaborn\\_decorators.py:36: FutureWarning: Pass the following variable as a keyword arg: x. From version 0.12, the only valid positional argument will be `data`, and passing other arguments without an explicit keyword will result in an error or misinterpretation.\n",
      "  warnings.warn(\n"
     ]
    },
    {
     "data": {
      "text/plain": [
       "<AxesSubplot:xlabel='Indeks stabilitas sistem keuangan'>"
      ]
     },
     "execution_count": 10,
     "metadata": {
      "tags": []
     },
     "output_type": "execute_result"
    },
    {
     "data": {
      "image/png": "[encoded data removed]",
      "text/plain": [
       "<Figure size 432x288 with 1 Axes>"
      ]
     },
     "metadata": {
      "needs_background": "light",
      "tags": []
     },
     "output_type": "display_data"
    }
   ],
   "source": [
    "sns.boxplot(data[\"Indeks stabilitas sistem keuangan\"])"
   ]
  },
  {
   "cell_type": "code",
   "execution_count": null,
   "metadata": {
    "id": "Uhj1TCNxhXJw",
    "outputId": "e660c022-e663-41e6-8cc6-1add2528b266"
   },
   "outputs": [
    {
     "name": "stderr",
     "output_type": "stream",
     "text": [
      "C:\\Users\\nanah\\anaconda3\\lib\\site-packages\\seaborn\\_decorators.py:36: FutureWarning: Pass the following variable as a keyword arg: x. From version 0.12, the only valid positional argument will be `data`, and passing other arguments without an explicit keyword will result in an error or misinterpretation.\n",
      "  warnings.warn(\n"
     ]
    },
    {
     "data": {
      "text/plain": [
       "<AxesSubplot:xlabel='IHSG'>"
      ]
     },
     "execution_count": 11,
     "metadata": {
      "tags": []
     },
     "output_type": "execute_result"
    },
    {
     "data": {
      "image/png": "[encoded data removed]",
      "text/plain": [
       "<Figure size 432x288 with 1 Axes>"
      ]
     },
     "metadata": {
      "needs_background": "light",
      "tags": []
     },
     "output_type": "display_data"
    }
   ],
   "source": [
    "sns.boxplot(data[\"IHSG\"])"
   ]
  },
  {
   "cell_type": "code",
   "execution_count": null,
   "metadata": {
    "id": "NLRdov9uhXJx",
    "outputId": "c1e61688-cf88-43db-c4d6-4d3ff280b4e0"
   },
   "outputs": [
    {
     "name": "stderr",
     "output_type": "stream",
     "text": [
      "C:\\Users\\nanah\\anaconda3\\lib\\site-packages\\seaborn\\_decorators.py:36: FutureWarning: Pass the following variable as a keyword arg: x. From version 0.12, the only valid positional argument will be `data`, and passing other arguments without an explicit keyword will result in an error or misinterpretation.\n",
      "  warnings.warn(\n"
     ]
    },
    {
     "data": {
      "text/plain": [
       "<AxesSubplot:xlabel='IHPR'>"
      ]
     },
     "execution_count": 12,
     "metadata": {
      "tags": []
     },
     "output_type": "execute_result"
    },
    {
     "data": {
      "image/png": "[encoded data removed]",
      "text/plain": [
       "<Figure size 432x288 with 1 Axes>"
      ]
     },
     "metadata": {
      "needs_background": "light",
      "tags": []
     },
     "output_type": "display_data"
    }
   ],
   "source": [
    "sns.boxplot(data[\"IHPR\"])"
   ]
  },
  {
   "cell_type": "code",
   "execution_count": null,
   "metadata": {
    "id": "tnPjtxekhXJy",
    "outputId": "8f0c5fb4-dfab-443e-97ce-c38d29dbe982"
   },
   "outputs": [
    {
     "name": "stderr",
     "output_type": "stream",
     "text": [
      "C:\\Users\\nanah\\anaconda3\\lib\\site-packages\\seaborn\\_decorators.py:36: FutureWarning: Pass the following variable as a keyword arg: x. From version 0.12, the only valid positional argument will be `data`, and passing other arguments without an explicit keyword will result in an error or misinterpretation.\n",
      "  warnings.warn(\n"
     ]
    },
    {
     "data": {
      "text/plain": [
       "<AxesSubplot:xlabel='Perkembangan Kredit'>"
      ]
     },
     "execution_count": 13,
     "metadata": {
      "tags": []
     },
     "output_type": "execute_result"
    },
    {
     "data": {
      "image/png": "[encoded data removed]",
      "text/plain": [
       "<Figure size 432x288 with 1 Axes>"
      ]
     },
     "metadata": {
      "needs_background": "light",
      "tags": []
     },
     "output_type": "display_data"
    }
   ],
   "source": [
    "sns.boxplot(data[\"Perkembangan Kredit\"])"
   ]
  },
  {
   "cell_type": "code",
   "execution_count": null,
   "metadata": {
    "id": "Zh4OG14HhXJz",
    "outputId": "6919d7f5-5b94-41b1-a5ce-17865ff902b8"
   },
   "outputs": [
    {
     "name": "stderr",
     "output_type": "stream",
     "text": [
      "C:\\Users\\nanah\\anaconda3\\lib\\site-packages\\seaborn\\_decorators.py:36: FutureWarning: Pass the following variable as a keyword arg: x. From version 0.12, the only valid positional argument will be `data`, and passing other arguments without an explicit keyword will result in an error or misinterpretation.\n",
      "  warnings.warn(\n"
     ]
    },
    {
     "data": {
      "text/plain": [
       "<AxesSubplot:xlabel='Kurs'>"
      ]
     },
     "execution_count": 14,
     "metadata": {
      "tags": []
     },
     "output_type": "execute_result"
    },
    {
     "data": {
      "image/png": "[encoded data removed]",
      "text/plain": [
       "<Figure size 432x288 with 1 Axes>"
      ]
     },
     "metadata": {
      "needs_background": "light",
      "tags": []
     },
     "output_type": "display_data"
    }
   ],
   "source": [
    "sns.boxplot(data[\"Kurs\"])"
   ]
  },
  {
   "cell_type": "code",
   "execution_count": null,
   "metadata": {
    "id": "M8KsmbVnhXJ0",
    "outputId": "e5a2c6e0-4ab8-425d-a074-765458fe3daa"
   },
   "outputs": [
    {
     "name": "stderr",
     "output_type": "stream",
     "text": [
      "C:\\Users\\nanah\\anaconda3\\lib\\site-packages\\seaborn\\_decorators.py:36: FutureWarning: Pass the following variable as a keyword arg: x. From version 0.12, the only valid positional argument will be `data`, and passing other arguments without an explicit keyword will result in an error or misinterpretation.\n",
      "  warnings.warn(\n"
     ]
    },
    {
     "data": {
      "text/plain": [
       "<AxesSubplot:xlabel='Jumlah uang  beredar'>"
      ]
     },
     "execution_count": 15,
     "metadata": {
      "tags": []
     },
     "output_type": "execute_result"
    },
    {
     "data": {
      "image/png": "[encoded data removed]",
      "text/plain": [
       "<Figure size 432x288 with 1 Axes>"
      ]
     },
     "metadata": {
      "needs_background": "light",
      "tags": []
     },
     "output_type": "display_data"
    }
   ],
   "source": [
    "sns.boxplot(data[\"Jumlah uang  beredar\"])"
   ]
  },
  {
   "cell_type": "code",
   "execution_count": null,
   "metadata": {
    "id": "xhEguxrthXJ1"
   },
   "outputs": [],
   "source": [
    "#membuat fungsi untuk mendeteksi outlier dengan lower bound dan upper bound\n",
    "def outlier(sample):\n",
    "    Q1=sample.quantile(0.25)\n",
    "    Q3=sample.quantile(0.75)\n",
    "    IQR=Q3-Q1\n",
    "    lower_range = Q1 -(1.5 * IQR)\n",
    "    upper_range = Q3 +(1.5 * IQR)\n",
    "    number_outlier=len(sample[sample>upper_range])+len(sample[sample<lower_range])\n",
    "    print(\"Number of Outlier {}\".format(number_outlier))\n",
    "    if number_outlier>0:\n",
    "        print(\"Outlier observation row:\")\n",
    "    else:\n",
    "        pass\n",
    "    for i in range(len(sample)):\n",
    "        if sample[i]<lower_range: \n",
    "            print(i)\n",
    "        elif sample[i]>upper_range:\n",
    "            print(i)\n",
    "        else:\n",
    "            pass"
   ]
  },
  {
   "cell_type": "code",
   "execution_count": null,
   "metadata": {
    "id": "uUA0BjZbhXJ7",
    "outputId": "1691bf02-e10e-4c96-9400-08dd36ce65ed"
   },
   "outputs": [
    {
     "name": "stdout",
     "output_type": "stream",
     "text": [
      "Number of Outlier 6\n",
      "Outlier observation row:\n",
      "8\n",
      "9\n",
      "11\n",
      "27\n",
      "30\n",
      "42\n"
     ]
    }
   ],
   "source": [
    "outlier(data[\"IHPR\"])"
   ]
  },
  {
   "cell_type": "code",
   "execution_count": null,
   "metadata": {
    "id": "Lcaov25XhXJ8",
    "outputId": "01bf4227-188d-4633-f4ef-f1e57d288b88"
   },
   "outputs": [
    {
     "data": {
      "text/plain": [
       "8     191.90\n",
       "9     190.02\n",
       "11    193.13\n",
       "27    194.54\n",
       "30    188.55\n",
       "42    193.83\n",
       "Name: IHPR, dtype: float64"
      ]
     },
     "execution_count": 56,
     "metadata": {
      "tags": []
     },
     "output_type": "execute_result"
    }
   ],
   "source": [
    "data.loc[[8,9,11,27,30,42],\"IHPR\"]"
   ]
  },
  {
   "cell_type": "code",
   "execution_count": null,
   "metadata": {
    "id": "wJHCb-erhXJ9",
    "outputId": "5fe9f7ae-f0ac-4fc9-b59c-b125c0f7df12"
   },
   "outputs": [
    {
     "name": "stdout",
     "output_type": "stream",
     "text": [
      "Number of Outlier 1\n",
      "Outlier observation row:\n",
      "39\n"
     ]
    }
   ],
   "source": [
    "outlier(data[\"Perkembangan Kredit\"])"
   ]
  },
  {
   "cell_type": "code",
   "execution_count": null,
   "metadata": {
    "id": "7-8dMAlDhXJ-",
    "outputId": "5a853509-2141-42e3-fbae-8e57f2f92951"
   },
   "outputs": [
    {
     "data": {
      "text/plain": [
       "29004.09"
      ]
     },
     "execution_count": 58,
     "metadata": {
      "tags": []
     },
     "output_type": "execute_result"
    }
   ],
   "source": [
    "data.loc[39,\"Perkembangan Kredit\"]"
   ]
  },
  {
   "cell_type": "markdown",
   "metadata": {
    "id": "Fl-Ry277hXJ_"
   },
   "source": [
    "#### Melihat Korelasi antar variabel"
   ]
  },
  {
   "cell_type": "code",
   "execution_count": null,
   "metadata": {
    "id": "tRsKWwo7hXJ_",
    "outputId": "3c43deac-8a6c-4285-a724-b15d621d6c1f"
   },
   "outputs": [
    {
     "data": {
      "text/plain": [
       "<AxesSubplot:>"
      ]
     },
     "execution_count": 59,
     "metadata": {
      "tags": []
     },
     "output_type": "execute_result"
    },
    {
     "data": {
      "image/png": "[encoded data removed]",
      "text/plain": [
       "<Figure size 864x576 with 2 Axes>"
      ]
     },
     "metadata": {
      "needs_background": "light",
      "tags": []
     },
     "output_type": "display_data"
    }
   ],
   "source": [
    "cor=data.corr()\n",
    "plt.figure(figsize=(12,8))\n",
    "sns.heatmap(cor,annot=True,vmin=-1,vmax=1)"
   ]
  },
  {
   "cell_type": "code",
   "execution_count": null,
   "metadata": {
    "id": "wbFNIV4EhXKA",
    "outputId": "c43c4691-4be6-4047-cafa-000cb7b9056e"
   },
   "outputs": [
    {
     "data": {
      "text/plain": [
       "<seaborn.axisgrid.PairGrid at 0x28eb4693e50>"
      ]
     },
     "execution_count": 60,
     "metadata": {
      "tags": []
     },
     "output_type": "execute_result"
    },
    {
     "data": {
      "image/png": "[encoded data removed]",
      "text/plain": [
       "<Figure size 1080x1080 with 42 Axes>"
      ]
     },
     "metadata": {
      "needs_background": "light",
      "tags": []
     },
     "output_type": "display_data"
    }
   ],
   "source": [
    "sns.pairplot(data=data)"
   ]
  },
  {
   "cell_type": "markdown",
   "metadata": {
    "id": "T_PW7xpPhXKB"
   },
   "source": [
    "#### Feature Scalling"
   ]
  },
  {
   "cell_type": "code",
   "execution_count": null,
   "metadata": {
    "id": "HvDqqUp0hXKB"
   },
   "outputs": [],
   "source": [
    "from sklearn.preprocessing import StandardScaler\n",
    "\n",
    "#Memisah variabel dependen dan independen\n",
    "y=data[\"Indeks stabilitas sistem keuangan\"]\n",
    "x=data.iloc[:,1:]\n",
    "\n",
    "#Standarisasi pada variabel independen\n",
    "scale=StandardScaler()\n",
    "x=scale.fit_transform(x)\n",
    "x=pd.DataFrame(data=x,columns=[\"IHSG\",\"IHPR\",\"Perkembangan Kredit\",\"Kurs\",\"Jumlah uang  beredar\"])"
   ]
  },
  {
   "cell_type": "markdown",
   "metadata": {
    "id": "BfbTVcsxhXKD"
   },
   "source": [
    "#### Partisi Data"
   ]
  },
  {
   "cell_type": "code",
   "execution_count": null,
   "metadata": {
    "id": "7OSVDnYNhXKD"
   },
   "outputs": [],
   "source": [
    "from sklearn.model_selection import train_test_split\n",
    "X_train, X_test, y_train, y_test = train_test_split(x, y, test_size=0.2, random_state=42)"
   ]
  },
  {
   "cell_type": "markdown",
   "metadata": {
    "id": "SVyGg8jDhXKF"
   },
   "source": [
    "### Modeling"
   ]
  },
  {
   "cell_type": "code",
   "execution_count": null,
   "metadata": {
    "id": "aMAxUui0hXKK"
   },
   "outputs": [],
   "source": [
    "import statsmodels.api as sm\n",
    "from statsmodels.stats.outliers_influence import variance_inflation_factor\n",
    "from scipy import stats"
   ]
  },
  {
   "cell_type": "markdown",
   "metadata": {
    "id": "j_mvcwdMhXKL"
   },
   "source": [
    "#### Regresi Linear"
   ]
  },
  {
   "cell_type": "code",
   "execution_count": null,
   "metadata": {
    "id": "t8Of6t_0hXKL"
   },
   "outputs": [],
   "source": [
    "X_train2 = sm.add_constant(X_train)\n",
    "est = sm.OLS(y_train, X_train2)\n",
    "est2 = est.fit()"
   ]
  },
  {
   "cell_type": "code",
   "execution_count": null,
   "metadata": {
    "id": "dn0hw2GVhXKM",
    "outputId": "34b2759d-65de-4a15-e4f2-1ce86e328ae9"
   },
   "outputs": [
    {
     "name": "stdout",
     "output_type": "stream",
     "text": [
      "                                    OLS Regression Results                                   \n",
      "=============================================================================================\n",
      "Dep. Variable:     Indeks stabilitas sistem keuangan   R-squared:                       0.758\n",
      "Model:                                           OLS   Adj. R-squared:                  0.722\n",
      "Method:                                Least Squares   F-statistic:                     21.26\n",
      "Date:                               Sat, 10 Apr 2021   Prob (F-statistic):           1.36e-09\n",
      "Time:                                       09:13:50   Log-Likelihood:                 51.058\n",
      "No. Observations:                                 40   AIC:                            -90.12\n",
      "Df Residuals:                                     34   BIC:                            -79.98\n",
      "Df Model:                                          5                                         \n",
      "Covariance Type:                           nonrobust                                         \n",
      "========================================================================================\n",
      "                           coef    std err          t      P>|t|      [0.025      0.975]\n",
      "----------------------------------------------------------------------------------------\n",
      "const                    0.8321      0.048     17.385      0.000       0.735       0.929\n",
      "IHSG                     0.1745      0.075      2.330      0.026       0.022       0.327\n",
      "IHPR                    -0.0578      0.034     -1.675      0.103      -0.128       0.012\n",
      "Perkembangan Kredit     -0.9630      0.363     -2.650      0.012      -1.701      -0.225\n",
      "Kurs                     0.1612      0.056      2.875      0.007       0.047       0.275\n",
      "Jumlah uang  beredar    -0.0929      0.057     -1.622      0.114      -0.209       0.024\n",
      "==============================================================================\n",
      "Omnibus:                        5.057   Durbin-Watson:                   1.468\n",
      "Prob(Omnibus):                  0.080   Jarque-Bera (JB):                4.005\n",
      "Skew:                           0.760   Prob(JB):                        0.135\n",
      "Kurtosis:                       3.308   Cond. No.                         62.6\n",
      "==============================================================================\n",
      "\n",
      "Notes:\n",
      "[1] Standard Errors assume that the covariance matrix of the errors is correctly specified.\n"
     ]
    }
   ],
   "source": [
    "print(est2.summary())"
   ]
  },
  {
   "cell_type": "code",
   "execution_count": null,
   "metadata": {
    "id": "9SGvFdy0hXKM",
    "outputId": "a7867822-baf9-4c4f-a133-a4248d426369"
   },
   "outputs": [
    {
     "name": "stdout",
     "output_type": "stream",
     "text": [
      "                                    OLS Regression Results                                   \n",
      "=============================================================================================\n",
      "Dep. Variable:     Indeks stabilitas sistem keuangan   R-squared:                       0.739\n",
      "Model:                                           OLS   Adj. R-squared:                  0.709\n",
      "Method:                                Least Squares   F-statistic:                     24.77\n",
      "Date:                               Sat, 10 Apr 2021   Prob (F-statistic):           8.65e-10\n",
      "Time:                                       09:14:03   Log-Likelihood:                 49.567\n",
      "No. Observations:                                 40   AIC:                            -89.13\n",
      "Df Residuals:                                     35   BIC:                            -80.69\n",
      "Df Model:                                          4                                         \n",
      "Covariance Type:                           nonrobust                                         \n",
      "=======================================================================================\n",
      "                          coef    std err          t      P>|t|      [0.025      0.975]\n",
      "---------------------------------------------------------------------------------------\n",
      "const                   0.8147      0.048     17.071      0.000       0.718       0.912\n",
      "IHSG                    0.1521      0.075      2.020      0.051      -0.001       0.305\n",
      "IHPR                   -0.0644      0.035     -1.839      0.074      -0.136       0.007\n",
      "Perkembangan Kredit    -1.0999      0.362     -3.042      0.004      -1.834      -0.366\n",
      "Kurs                    0.1385      0.056      2.494      0.018       0.026       0.251\n",
      "==============================================================================\n",
      "Omnibus:                        4.117   Durbin-Watson:                   1.583\n",
      "Prob(Omnibus):                  0.128   Jarque-Bera (JB):                3.388\n",
      "Skew:                           0.712   Prob(JB):                        0.184\n",
      "Kurtosis:                       3.055   Cond. No.                         52.7\n",
      "==============================================================================\n",
      "\n",
      "Notes:\n",
      "[1] Standard Errors assume that the covariance matrix of the errors is correctly specified.\n"
     ]
    }
   ],
   "source": [
    "X_train2 = sm.add_constant(X_train.drop(labels=[\"Jumlah uang  beredar\"],axis=1))\n",
    "est = sm.OLS(y_train, X_train2)\n",
    "est2 = est.fit()\n",
    "print(est2.summary())"
   ]
  },
  {
   "cell_type": "code",
   "execution_count": null,
   "metadata": {
    "id": "LvS6M2KThXKN",
    "outputId": "c057ff6a-bd05-4131-8a04-fa7c9e468821"
   },
   "outputs": [
    {
     "name": "stdout",
     "output_type": "stream",
     "text": [
      "                                    OLS Regression Results                                   \n",
      "=============================================================================================\n",
      "Dep. Variable:     Indeks stabilitas sistem keuangan   R-squared:                       0.714\n",
      "Model:                                           OLS   Adj. R-squared:                  0.690\n",
      "Method:                                Least Squares   F-statistic:                     29.92\n",
      "Date:                               Sat, 10 Apr 2021   Prob (F-statistic):           6.96e-10\n",
      "Time:                                       09:14:11   Log-Likelihood:                 47.723\n",
      "No. Observations:                                 40   AIC:                            -87.45\n",
      "Df Residuals:                                     36   BIC:                            -80.69\n",
      "Df Model:                                          3                                         \n",
      "Covariance Type:                           nonrobust                                         \n",
      "=======================================================================================\n",
      "                          coef    std err          t      P>|t|      [0.025      0.975]\n",
      "---------------------------------------------------------------------------------------\n",
      "const                   0.7675      0.042     18.481      0.000       0.683       0.852\n",
      "IHSG                    0.2440      0.058      4.202      0.000       0.126       0.362\n",
      "Perkembangan Kredit    -1.4790      0.307     -4.823      0.000      -2.101      -0.857\n",
      "Kurs                    0.1082      0.055      1.976      0.056      -0.003       0.219\n",
      "==============================================================================\n",
      "Omnibus:                        1.314   Durbin-Watson:                   1.572\n",
      "Prob(Omnibus):                  0.518   Jarque-Bera (JB):                0.985\n",
      "Skew:                           0.382   Prob(JB):                        0.611\n",
      "Kurtosis:                       2.917   Cond. No.                         36.9\n",
      "==============================================================================\n",
      "\n",
      "Notes:\n",
      "[1] Standard Errors assume that the covariance matrix of the errors is correctly specified.\n"
     ]
    }
   ],
   "source": [
    "X_train2 = sm.add_constant(X_train.drop(labels=[\"Jumlah uang  beredar\",\"IHPR\"],axis=1))\n",
    "est = sm.OLS(y_train, X_train2)\n",
    "est2 = est.fit()\n",
    "print(est2.summary())"
   ]
  },
  {
   "cell_type": "code",
   "execution_count": null,
   "metadata": {
    "id": "0_mNGsX2hXKO",
    "outputId": "361085c5-1b4c-4e46-93a4-59c99755f32a"
   },
   "outputs": [
    {
     "name": "stdout",
     "output_type": "stream",
     "text": [
      "                                    OLS Regression Results                                   \n",
      "=============================================================================================\n",
      "Dep. Variable:     Indeks stabilitas sistem keuangan   R-squared:                       0.683\n",
      "Model:                                           OLS   Adj. R-squared:                  0.666\n",
      "Method:                                Least Squares   F-statistic:                     39.80\n",
      "Date:                               Sat, 10 Apr 2021   Prob (F-statistic):           5.99e-10\n",
      "Time:                                       09:14:15   Log-Likelihood:                 45.664\n",
      "No. Observations:                                 40   AIC:                            -85.33\n",
      "Df Residuals:                                     37   BIC:                            -80.26\n",
      "Df Model:                                          2                                         \n",
      "Covariance Type:                           nonrobust                                         \n",
      "=======================================================================================\n",
      "                          coef    std err          t      P>|t|      [0.025      0.975]\n",
      "---------------------------------------------------------------------------------------\n",
      "const                   0.8311      0.027     30.524      0.000       0.776       0.886\n",
      "IHSG                    0.1992      0.056      3.588      0.001       0.087       0.312\n",
      "Perkembangan Kredit    -0.9838      0.184     -5.360      0.000      -1.356      -0.612\n",
      "==============================================================================\n",
      "Omnibus:                        2.862   Durbin-Watson:                   1.531\n",
      "Prob(Omnibus):                  0.239   Jarque-Bera (JB):                2.428\n",
      "Skew:                           0.599   Prob(JB):                        0.297\n",
      "Kurtosis:                       2.860   Cond. No.                         15.9\n",
      "==============================================================================\n",
      "\n",
      "Notes:\n",
      "[1] Standard Errors assume that the covariance matrix of the errors is correctly specified.\n"
     ]
    }
   ],
   "source": [
    "X_train2 = sm.add_constant(X_train.drop(labels=[\"Jumlah uang  beredar\",\"IHPR\",\"Kurs\"],axis=1))\n",
    "est = sm.OLS(y_train, X_train2)\n",
    "est2 = est.fit()\n",
    "print(est2.summary())"
   ]
  },
  {
   "cell_type": "code",
   "execution_count": null,
   "metadata": {
    "id": "iJltduphhXKP",
    "outputId": "14b77458-9c11-4980-80c2-6c92cf0f65bf"
   },
   "outputs": [
    {
     "data": {
      "text/html": [
       "<div>\n",
       "<style scoped>\n",
       "    .dataframe tbody tr th:only-of-type {\n",
       "        vertical-align: middle;\n",
       "    }\n",
       "\n",
       "    .dataframe tbody tr th {\n",
       "        vertical-align: top;\n",
       "    }\n",
       "\n",
       "    .dataframe thead th {\n",
       "        text-align: right;\n",
       "    }\n",
       "</style>\n",
       "<table border=\"1\" class=\"dataframe\">\n",
       "  <thead>\n",
       "    <tr style=\"text-align: right;\">\n",
       "      <th></th>\n",
       "      <th>lb_stat</th>\n",
       "      <th>lb_pvalue</th>\n",
       "    </tr>\n",
       "  </thead>\n",
       "  <tbody>\n",
       "    <tr>\n",
       "      <th>20</th>\n",
       "      <td>22.180794</td>\n",
       "      <td>0.330781</td>\n",
       "    </tr>\n",
       "  </tbody>\n",
       "</table>\n",
       "</div>"
      ],
      "text/plain": [
       "      lb_stat  lb_pvalue\n",
       "20  22.180794   0.330781"
      ]
     },
     "execution_count": 99,
     "metadata": {
      "tags": []
     },
     "output_type": "execute_result"
    }
   ],
   "source": [
    "#Cek autokorelasi\n",
    "import statsmodels.api as sm\n",
    "residual=est2.resid\n",
    "sm.stats.diagnostic.acorr_ljungbox(residual,lags=[20],return_df=True)"
   ]
  },
  {
   "cell_type": "code",
   "execution_count": null,
   "metadata": {
    "id": "fl2BVenNhXKP",
    "outputId": "fb9b829d-2355-4c70-d956-82ea6f421c7b"
   },
   "outputs": [
    {
     "data": {
      "text/html": [
       "<div>\n",
       "<style scoped>\n",
       "    .dataframe tbody tr th:only-of-type {\n",
       "        vertical-align: middle;\n",
       "    }\n",
       "\n",
       "    .dataframe tbody tr th {\n",
       "        vertical-align: top;\n",
       "    }\n",
       "\n",
       "    .dataframe thead th {\n",
       "        text-align: right;\n",
       "    }\n",
       "</style>\n",
       "<table border=\"1\" class=\"dataframe\">\n",
       "  <thead>\n",
       "    <tr style=\"text-align: right;\">\n",
       "      <th></th>\n",
       "      <th>VIF Factor</th>\n",
       "      <th>features</th>\n",
       "    </tr>\n",
       "  </thead>\n",
       "  <tbody>\n",
       "    <tr>\n",
       "      <th>0</th>\n",
       "      <td>4.883456</td>\n",
       "      <td>IHSG</td>\n",
       "    </tr>\n",
       "    <tr>\n",
       "      <th>1</th>\n",
       "      <td>4.883456</td>\n",
       "      <td>Perkembangan Kredit</td>\n",
       "    </tr>\n",
       "  </tbody>\n",
       "</table>\n",
       "</div>"
      ],
      "text/plain": [
       "   VIF Factor             features\n",
       "0    4.883456                 IHSG\n",
       "1    4.883456  Perkembangan Kredit"
      ]
     },
     "execution_count": 100,
     "metadata": {
      "tags": []
     },
     "output_type": "execute_result"
    }
   ],
   "source": [
    "#Cek Multikolinearitas\n",
    "vif = pd.DataFrame()\n",
    "vif[\"VIF Factor\"] = [variance_inflation_factor(X_train.drop(labels=[\"Jumlah uang  beredar\",\n",
    "                                                                    \"IHPR\",\"Kurs\"],axis=1).values, i) for i in range(X_train.drop(labels=[\"Jumlah uang  beredar\",\n",
    "                                                                                                                                          \"IHPR\",\"Kurs\"],axis=1).shape[1])]\n",
    "vif[\"features\"] = X_train.drop(labels=[\"Jumlah uang  beredar\",\"IHPR\",\"Kurs\"],axis=1).columns\n",
    "vif"
   ]
  },
  {
   "cell_type": "code",
   "execution_count": null,
   "metadata": {
    "id": "V61r7zMrhXKQ",
    "outputId": "4be04248-45b0-45bb-da3b-2d99b7bd8557"
   },
   "outputs": [
    {
     "name": "stdout",
     "output_type": "stream",
     "text": [
      "{'LM Statistic': 7.487258634510066, 'LM-Test p-value': 0.02366804820969785, 'F-Statistic': 4.260307772307989, 'F-Test p-value': 0.021621288035320495}\n"
     ]
    }
   ],
   "source": [
    "#Cek Homoskesdastisitas\n",
    "bp_test=sm.stats.diagnostic.het_breuschpagan(residual,est2.model.exog)\n",
    "labels = [\"LM Statistic\", \"LM-Test p-value\", \"F-Statistic\", \"F-Test p-value\"]\n",
    "print(dict(zip(labels, bp_test)))"
   ]
  },
  {
   "cell_type": "markdown",
   "metadata": {
    "id": "y3xyNpIJhXKR"
   },
   "source": [
    "#### Evaluasi Model"
   ]
  },
  {
   "cell_type": "code",
   "execution_count": null,
   "metadata": {
    "id": "PC70IKUQhXKS",
    "outputId": "1e326fcc-af17-4e0e-f9a0-33393d7b0cd8"
   },
   "outputs": [
    {
     "data": {
      "text/plain": [
       "4.087424830993151"
      ]
     },
     "execution_count": 102,
     "metadata": {
      "tags": []
     },
     "output_type": "execute_result"
    }
   ],
   "source": [
    "from sklearn.metrics import mean_squared_error\n",
    "pred_lr=est2.predict(sm.add_constant(X_test.drop(labels=[\"Jumlah uang  beredar\",\"IHPR\",\"Kurs\"],axis=1)))\n",
    "mean_squared_error(y_test,pred_lr)"
   ]
  },
  {
   "cell_type": "markdown",
   "metadata": {
    "id": "BJzJyNd_hXKT"
   },
   "source": [
    "### Regresi Ridge"
   ]
  },
  {
   "cell_type": "code",
   "execution_count": null,
   "metadata": {
    "id": "xB_va8UPhXKT",
    "outputId": "2b257968-38d4-42f8-e88c-8868cb844da5"
   },
   "outputs": [
    {
     "data": {
      "text/html": [
       "<div>\n",
       "<style scoped>\n",
       "    .dataframe tbody tr th:only-of-type {\n",
       "        vertical-align: middle;\n",
       "    }\n",
       "\n",
       "    .dataframe tbody tr th {\n",
       "        vertical-align: top;\n",
       "    }\n",
       "\n",
       "    .dataframe thead th {\n",
       "        text-align: right;\n",
       "    }\n",
       "</style>\n",
       "<table border=\"1\" class=\"dataframe\">\n",
       "  <thead>\n",
       "    <tr style=\"text-align: right;\">\n",
       "      <th></th>\n",
       "      <th>VIF Factor</th>\n",
       "      <th>features</th>\n",
       "    </tr>\n",
       "  </thead>\n",
       "  <tbody>\n",
       "    <tr>\n",
       "      <th>0</th>\n",
       "      <td>15.949809</td>\n",
       "      <td>IHSG</td>\n",
       "    </tr>\n",
       "    <tr>\n",
       "      <th>1</th>\n",
       "      <td>6.639688</td>\n",
       "      <td>IHPR</td>\n",
       "    </tr>\n",
       "    <tr>\n",
       "      <th>2</th>\n",
       "      <td>6.229725</td>\n",
       "      <td>Perkembangan Kredit</td>\n",
       "    </tr>\n",
       "    <tr>\n",
       "      <th>3</th>\n",
       "      <td>20.474934</td>\n",
       "      <td>Kurs</td>\n",
       "    </tr>\n",
       "    <tr>\n",
       "      <th>4</th>\n",
       "      <td>23.468013</td>\n",
       "      <td>Jumlah uang  beredar</td>\n",
       "    </tr>\n",
       "  </tbody>\n",
       "</table>\n",
       "</div>"
      ],
      "text/plain": [
       "   VIF Factor              features\n",
       "0   15.949809                  IHSG\n",
       "1    6.639688                  IHPR\n",
       "2    6.229725   Perkembangan Kredit\n",
       "3   20.474934                  Kurs\n",
       "4   23.468013  Jumlah uang  beredar"
      ]
     },
     "execution_count": 103,
     "metadata": {
      "tags": []
     },
     "output_type": "execute_result"
    }
   ],
   "source": [
    "#Cek Multikolinearitas\n",
    "vif = pd.DataFrame()\n",
    "vif[\"VIF Factor\"] = [variance_inflation_factor(X_train.values, i) for i in range(X_train.shape[1])]\n",
    "vif[\"features\"] = X_train.columns\n",
    "vif"
   ]
  },
  {
   "cell_type": "code",
   "execution_count": null,
   "metadata": {
    "id": "zchdifckhXKV"
   },
   "outputs": [],
   "source": [
    "#Melihat Keunggulan Ridge\n",
    "from sklearn.linear_model import Ridge\n",
    "coef=[]\n",
    "alphas = range(0,40)\n",
    "\n",
    "for a in alphas:\n",
    "  ridgereg=Ridge(alpha=a)\n",
    "  ridgereg.fit(X_train,y_train)\n",
    "  coef.append(ridgereg.coef_)"
   ]
  },
  {
   "cell_type": "code",
   "execution_count": null,
   "metadata": {
    "id": "VPT7v-g3hXKW",
    "outputId": "971cee99-249f-435c-ec85-2d5a0ba8ffae"
   },
   "outputs": [
    {
     "data": {
      "image/png": "[encoded data removed]",
      "text/plain": [
       "<Figure size 1080x360 with 1 Axes>"
      ]
     },
     "metadata": {
      "needs_background": "light",
      "tags": []
     },
     "output_type": "display_data"
    }
   ],
   "source": [
    "###Membuat plot antara alpha dan koefisien\n",
    "fig=plt.figure(figsize=(15,5))\n",
    "ax=fig.add_subplot(111)\n",
    "ax.plot(alphas,coef)\n",
    "ax.set_xlabel('Alpha (Regularization Parameter)')\n",
    "ax.set_ylabel('Beta (Predictor Coefficients)')\n",
    "ax.set_title('Ridge Coefficients vs Regularization Parameters')\n",
    "ax.axis('tight')\n",
    "###ax.legend(loc='best')\n",
    "fig.savefig('coef_vs_alpha.png')"
   ]
  },
  {
   "cell_type": "code",
   "execution_count": null,
   "metadata": {
    "id": "l6ZY7vcwhXKZ",
    "outputId": "70d6e305-8f7f-401e-a8ea-2c12d606aefa"
   },
   "outputs": [
    {
     "name": "stdout",
     "output_type": "stream",
     "text": [
      "1\n",
      "0.950708337549076\n",
      "[ 0.01169928 -0.08888263 -0.0396696   0.05181744 -0.07637162]\n"
     ]
    }
   ],
   "source": [
    "#Membangun model regresi ridge dengan nilai alpha terbaik\n",
    "from sklearn.linear_model import RidgeCV\n",
    "regr_cv=RidgeCV(alphas=range(1,40))\n",
    "model_cv=regr_cv.fit(X_train,y_train)\n",
    "\n",
    "#alpha terbaik\n",
    "print(model_cv.alpha_)\n",
    "\n",
    "#Parameter regresi ridge\n",
    "print(model_cv.intercept_)\n",
    "print(model_cv.coef_)"
   ]
  },
  {
   "cell_type": "code",
   "execution_count": null,
   "metadata": {
    "id": "otcJvty1hXKb",
    "outputId": "73fa2bb9-92ef-4fb0-9987-5c8eaebabbb7"
   },
   "outputs": [
    {
     "data": {
      "text/html": [
       "<div>\n",
       "<style scoped>\n",
       "    .dataframe tbody tr th:only-of-type {\n",
       "        vertical-align: middle;\n",
       "    }\n",
       "\n",
       "    .dataframe tbody tr th {\n",
       "        vertical-align: top;\n",
       "    }\n",
       "\n",
       "    .dataframe thead th {\n",
       "        text-align: right;\n",
       "    }\n",
       "</style>\n",
       "<table border=\"1\" class=\"dataframe\">\n",
       "  <thead>\n",
       "    <tr style=\"text-align: right;\">\n",
       "      <th></th>\n",
       "      <th>lb_stat</th>\n",
       "      <th>lb_pvalue</th>\n",
       "    </tr>\n",
       "  </thead>\n",
       "  <tbody>\n",
       "    <tr>\n",
       "      <th>20</th>\n",
       "      <td>35.373701</td>\n",
       "      <td>0.018202</td>\n",
       "    </tr>\n",
       "  </tbody>\n",
       "</table>\n",
       "</div>"
      ],
      "text/plain": [
       "      lb_stat  lb_pvalue\n",
       "20  35.373701   0.018202"
      ]
     },
     "execution_count": 107,
     "metadata": {
      "tags": []
     },
     "output_type": "execute_result"
    }
   ],
   "source": [
    "#Cek autokorelasi\n",
    "import statsmodels.api as sm\n",
    "residual1=y_train-(model_cv.predict(X_train))\n",
    "sm.stats.diagnostic.acorr_ljungbox(residual1,lags=[20],return_df=True)"
   ]
  },
  {
   "cell_type": "code",
   "execution_count": null,
   "metadata": {
    "id": "wW5DQhj2hXKc",
    "outputId": "d1f2ada1-757e-4fee-b5cf-5321a2a66b6a"
   },
   "outputs": [
    {
     "name": "stdout",
     "output_type": "stream",
     "text": [
      "{'LM Statistic': 19.528144680033435, 'LM-Test p-value': 0.0006187195937994281, 'F-Statistic': 6.677314323675932, 'F-Test p-value': 0.0001837355398907247}\n"
     ]
    }
   ],
   "source": [
    "#Cek Homoskesdastisitas\n",
    "bp_test=sm.stats.diagnostic.het_breuschpagan(residual1,X_train)\n",
    "labels = [\"LM Statistic\", \"LM-Test p-value\", \"F-Statistic\", \"F-Test p-value\"]\n",
    "print(dict(zip(labels, bp_test)))"
   ]
  },
  {
   "cell_type": "code",
   "execution_count": null,
   "metadata": {
    "id": "9LTIGkG_hXKd",
    "outputId": "6031327b-b170-4cdf-eef3-b44523ae996d"
   },
   "outputs": [
    {
     "data": {
      "text/plain": [
       "Jarque_beraResult(statistic=5.064228507370846, pvalue=0.07949077882391786)"
      ]
     },
     "execution_count": 109,
     "metadata": {
      "tags": []
     },
     "output_type": "execute_result"
    }
   ],
   "source": [
    "#Cek Normalitas\n",
    "import scipy\n",
    "scipy.stats.jarque_bera(residual1)"
   ]
  },
  {
   "cell_type": "markdown",
   "metadata": {
    "id": "qcJKWyi-hXKd"
   },
   "source": [
    "#### Evaluasi Model"
   ]
  },
  {
   "cell_type": "code",
   "execution_count": null,
   "metadata": {
    "id": "AmdTtjALhXKe",
    "outputId": "ad008c18-df5e-45bd-8bc8-efee8e99c9c6"
   },
   "outputs": [
    {
     "data": {
      "text/plain": [
       "0.01708092453147163"
      ]
     },
     "execution_count": 110,
     "metadata": {
      "tags": []
     },
     "output_type": "execute_result"
    }
   ],
   "source": [
    "#MSE\n",
    "pred_lridge=model_cv.predict(X_test)\n",
    "mean_squared_error(y_test,pred_lridge)"
   ]
  },
  {
   "cell_type": "markdown",
   "metadata": {
    "id": "6SNvXjcbhXKf"
   },
   "source": [
    "### Regresi Lasso"
   ]
  },
  {
   "cell_type": "code",
   "execution_count": null,
   "metadata": {
    "id": "kU1ZO-uohXKf",
    "outputId": "1a5b4457-c316-4291-c979-bff1bb09eb82"
   },
   "outputs": [
    {
     "name": "stderr",
     "output_type": "stream",
     "text": [
      "<ipython-input-111-a77f8602b0fa>:8: UserWarning: With alpha=0, this algorithm does not converge well. You are advised to use the LinearRegression estimator\n",
      "  lassoreg.fit(X_train,y_train)\n",
      "C:\\Users\\nanah\\anaconda3\\lib\\site-packages\\sklearn\\linear_model\\_coordinate_descent.py:530: UserWarning: Coordinate descent with no regularization may lead to unexpected results and is discouraged.\n",
      "  model = cd_fast.enet_coordinate_descent(\n",
      "C:\\Users\\nanah\\anaconda3\\lib\\site-packages\\sklearn\\linear_model\\_coordinate_descent.py:530: ConvergenceWarning: Objective did not converge. You might want to increase the number of iterations. Duality gap: 0.09117078951715235, tolerance: 7.525100000000002e-05\n",
      "  model = cd_fast.enet_coordinate_descent(\n"
     ]
    }
   ],
   "source": [
    "#Melihat Keunggulan Lasso\n",
    "from sklearn.linear_model import Lasso\n",
    "coef=[]\n",
    "alphas = range(0,40)\n",
    "\n",
    "for a in alphas:\n",
    "  lassoreg=Lasso(alpha=a)\n",
    "  lassoreg.fit(X_train,y_train)\n",
    "  coef.append(lassoreg.coef_)"
   ]
  },
  {
   "cell_type": "code",
   "execution_count": null,
   "metadata": {
    "id": "hgAGnwJYhXKg",
    "outputId": "82043704-5f1c-4b0d-9251-ad01cdc192bf"
   },
   "outputs": [
    {
     "data": {
      "image/png": "[encoded data removed]",
      "text/plain": [
       "<Figure size 1080x360 with 1 Axes>"
      ]
     },
     "metadata": {
      "needs_background": "light",
      "tags": []
     },
     "output_type": "display_data"
    }
   ],
   "source": [
    "###Membuat plot antara alpha dan koefisien\n",
    "fig=plt.figure(figsize=(15,5))\n",
    "ax=fig.add_subplot(111)\n",
    "ax.plot(alphas,coef)\n",
    "ax.set_xlabel('Alpha (Regularization Parameter)')\n",
    "ax.set_ylabel('Beta (Predictor Coefficients)')\n",
    "ax.set_title('Lasso Coefficients vs Regularization Parameters')\n",
    "ax.axis('tight')\n",
    "###ax.legend(loc='best')\n",
    "fig.savefig('coef_vs_alpha.png')"
   ]
  },
  {
   "cell_type": "code",
   "execution_count": null,
   "metadata": {
    "id": "CjWKx3KQhXKg",
    "outputId": "5065ee04-456b-420c-9414-e03ef892aa2a"
   },
   "outputs": [
    {
     "name": "stdout",
     "output_type": "stream",
     "text": [
      "0\n",
      "0.8320810000739857\n",
      "[ 0.17445186 -0.05775816 -0.96300566  0.16120892 -0.09288694]\n"
     ]
    },
    {
     "name": "stderr",
     "output_type": "stream",
     "text": [
      "C:\\Users\\nanah\\anaconda3\\lib\\site-packages\\sklearn\\linear_model\\_coordinate_descent.py:526: UserWarning: Coordinate descent with alpha=0 may lead to unexpected results and is discouraged.\n",
      "  model = cd_fast.enet_coordinate_descent_gram(\n",
      "C:\\Users\\nanah\\anaconda3\\lib\\site-packages\\sklearn\\linear_model\\_coordinate_descent.py:526: ConvergenceWarning: Objective did not converge. You might want to increase the number of iterations. Duality gap: 0.07898826373665646, tolerance: 6.090718750000002e-05\n",
      "  model = cd_fast.enet_coordinate_descent_gram(\n",
      "C:\\Users\\nanah\\anaconda3\\lib\\site-packages\\sklearn\\linear_model\\_coordinate_descent.py:526: UserWarning: Coordinate descent with alpha=0 may lead to unexpected results and is discouraged.\n",
      "  model = cd_fast.enet_coordinate_descent_gram(\n",
      "C:\\Users\\nanah\\anaconda3\\lib\\site-packages\\sklearn\\linear_model\\_coordinate_descent.py:526: ConvergenceWarning: Objective did not converge. You might want to increase the number of iterations. Duality gap: 0.07763600357002431, tolerance: 6.160875000000001e-05\n",
      "  model = cd_fast.enet_coordinate_descent_gram(\n",
      "C:\\Users\\nanah\\anaconda3\\lib\\site-packages\\sklearn\\linear_model\\_coordinate_descent.py:526: UserWarning: Coordinate descent with alpha=0 may lead to unexpected results and is discouraged.\n",
      "  model = cd_fast.enet_coordinate_descent_gram(\n",
      "C:\\Users\\nanah\\anaconda3\\lib\\site-packages\\sklearn\\linear_model\\_coordinate_descent.py:526: ConvergenceWarning: Objective did not converge. You might want to increase the number of iterations. Duality gap: 0.04747734085687455, tolerance: 5.246875e-05\n",
      "  model = cd_fast.enet_coordinate_descent_gram(\n",
      "C:\\Users\\nanah\\anaconda3\\lib\\site-packages\\sklearn\\linear_model\\_coordinate_descent.py:526: UserWarning: Coordinate descent with alpha=0 may lead to unexpected results and is discouraged.\n",
      "  model = cd_fast.enet_coordinate_descent_gram(\n",
      "C:\\Users\\nanah\\anaconda3\\lib\\site-packages\\sklearn\\linear_model\\_coordinate_descent.py:526: ConvergenceWarning: Objective did not converge. You might want to increase the number of iterations. Duality gap: 0.0678103108580721, tolerance: 7.116000000000002e-05\n",
      "  model = cd_fast.enet_coordinate_descent_gram(\n",
      "C:\\Users\\nanah\\anaconda3\\lib\\site-packages\\sklearn\\linear_model\\_coordinate_descent.py:526: UserWarning: Coordinate descent with alpha=0 may lead to unexpected results and is discouraged.\n",
      "  model = cd_fast.enet_coordinate_descent_gram(\n",
      "C:\\Users\\nanah\\anaconda3\\lib\\site-packages\\sklearn\\linear_model\\_coordinate_descent.py:526: ConvergenceWarning: Objective did not converge. You might want to increase the number of iterations. Duality gap: 0.07711991091209552, tolerance: 5.4289687500000006e-05\n",
      "  model = cd_fast.enet_coordinate_descent_gram(\n",
      "C:\\Users\\nanah\\anaconda3\\lib\\site-packages\\sklearn\\linear_model\\_coordinate_descent.py:1349: UserWarning: With alpha=0, this algorithm does not converge well. You are advised to use the LinearRegression estimator\n",
      "  model.fit(X, y)\n",
      "C:\\Users\\nanah\\anaconda3\\lib\\site-packages\\sklearn\\linear_model\\_coordinate_descent.py:530: UserWarning: Coordinate descent with no regularization may lead to unexpected results and is discouraged.\n",
      "  model = cd_fast.enet_coordinate_descent(\n",
      "C:\\Users\\nanah\\anaconda3\\lib\\site-packages\\sklearn\\linear_model\\_coordinate_descent.py:530: ConvergenceWarning: Objective did not converge. You might want to increase the number of iterations. Duality gap: 0.09117078951715235, tolerance: 7.525100000000002e-05\n",
      "  model = cd_fast.enet_coordinate_descent(\n"
     ]
    }
   ],
   "source": [
    "#Membangun model regresi Lasso dengan nilai alpha terbaik\n",
    "from sklearn.linear_model import LassoCV\n",
    "regl_cv=LassoCV(alphas=range(1))\n",
    "model_cv=regl_cv.fit(X_train,y_train)\n",
    "\n",
    "#alpha terbaik\n",
    "print(model_cv.alpha_)\n",
    "\n",
    "#Parameter regresi Lasso\n",
    "print(model_cv.intercept_)\n",
    "print(model_cv.coef_)"
   ]
  },
  {
   "cell_type": "code",
   "execution_count": null,
   "metadata": {
    "id": "o_lXszmvhXKi",
    "outputId": "9d7492ec-653d-4744-c2af-11ab0a1248d7"
   },
   "outputs": [
    {
     "data": {
      "text/html": [
       "<div>\n",
       "<style scoped>\n",
       "    .dataframe tbody tr th:only-of-type {\n",
       "        vertical-align: middle;\n",
       "    }\n",
       "\n",
       "    .dataframe tbody tr th {\n",
       "        vertical-align: top;\n",
       "    }\n",
       "\n",
       "    .dataframe thead th {\n",
       "        text-align: right;\n",
       "    }\n",
       "</style>\n",
       "<table border=\"1\" class=\"dataframe\">\n",
       "  <thead>\n",
       "    <tr style=\"text-align: right;\">\n",
       "      <th></th>\n",
       "      <th>lb_stat</th>\n",
       "      <th>lb_pvalue</th>\n",
       "    </tr>\n",
       "  </thead>\n",
       "  <tbody>\n",
       "    <tr>\n",
       "      <th>20</th>\n",
       "      <td>27.393227</td>\n",
       "      <td>0.124559</td>\n",
       "    </tr>\n",
       "  </tbody>\n",
       "</table>\n",
       "</div>"
      ],
      "text/plain": [
       "      lb_stat  lb_pvalue\n",
       "20  27.393227   0.124559"
      ]
     },
     "execution_count": 116,
     "metadata": {
      "tags": []
     },
     "output_type": "execute_result"
    }
   ],
   "source": [
    "#Cek autokorelasi\n",
    "import statsmodels.api as sm\n",
    "residual1=y_train-(model_cv.predict(X_train))\n",
    "sm.stats.diagnostic.acorr_ljungbox(residual1,lags=[20],return_df=True)"
   ]
  },
  {
   "cell_type": "code",
   "execution_count": null,
   "metadata": {
    "id": "l47ACR1MhXKn",
    "outputId": "346ec3f2-afd0-4737-b016-47bcf09846b6"
   },
   "outputs": [
    {
     "name": "stdout",
     "output_type": "stream",
     "text": [
      "{'LM Statistic': 17.734611868654852, 'LM-Test p-value': 0.0013905178140421056, 'F-Statistic': 5.575572379347693, 'F-Test p-value': 0.0007026611619787542}\n"
     ]
    }
   ],
   "source": [
    "#Cek Homoskesdastisitas\n",
    "bp_test=sm.stats.diagnostic.het_breuschpagan(residual1,X_train)\n",
    "labels = [\"LM Statistic\", \"LM-Test p-value\", \"F-Statistic\", \"F-Test p-value\"]\n",
    "print(dict(zip(labels, bp_test)))"
   ]
  },
  {
   "cell_type": "code",
   "execution_count": null,
   "metadata": {
    "id": "e18UuUnhhXKq",
    "outputId": "0374a242-4848-4ba1-dd8f-e47a762b5ca3"
   },
   "outputs": [
    {
     "data": {
      "text/plain": [
       "Jarque_beraResult(statistic=4.004709277707946, pvalue=0.1350169923974377)"
      ]
     },
     "execution_count": 118,
     "metadata": {
      "tags": []
     },
     "output_type": "execute_result"
    }
   ],
   "source": [
    "#Cek Normalitas\n",
    "import scipy\n",
    "scipy.stats.jarque_bera(residual1)"
   ]
  },
  {
   "cell_type": "markdown",
   "metadata": {
    "id": "R3uPWG-VhXKr"
   },
   "source": [
    "#### Evaluasi Model"
   ]
  },
  {
   "cell_type": "code",
   "execution_count": null,
   "metadata": {
    "id": "SWhFCQmZhXKs",
    "outputId": "293cfe66-7417-4c79-b21e-6f8c06a8e46a"
   },
   "outputs": [
    {
     "data": {
      "text/plain": [
       "3.9801746518080217"
      ]
     },
     "execution_count": 119,
     "metadata": {
      "tags": []
     },
     "output_type": "execute_result"
    }
   ],
   "source": [
    "#MSE\n",
    "pred_llasso=model_cv.predict(X_test)\n",
    "mean_squared_error(y_test,pred_llasso)"
   ]
  },
  {
   "cell_type": "markdown",
   "metadata": {
    "id": "LnFlRldihXKs"
   },
   "source": [
    "### Regresi Elastic Net"
   ]
  },
  {
   "cell_type": "code",
   "execution_count": null,
   "metadata": {
    "id": "-_vbU1jzhXKt",
    "outputId": "b3008653-35c0-4e52-ed54-132fc1ff03a9"
   },
   "outputs": [
    {
     "name": "stderr",
     "output_type": "stream",
     "text": [
      "<ipython-input-145-80d9f8bff99d>:8: UserWarning: With alpha=0, this algorithm does not converge well. You are advised to use the LinearRegression estimator\n",
      "  Enetreg.fit(X_train,y_train)\n",
      "C:\\Users\\nanah\\anaconda3\\lib\\site-packages\\sklearn\\linear_model\\_coordinate_descent.py:530: UserWarning: Coordinate descent with no regularization may lead to unexpected results and is discouraged.\n",
      "  model = cd_fast.enet_coordinate_descent(\n",
      "C:\\Users\\nanah\\anaconda3\\lib\\site-packages\\sklearn\\linear_model\\_coordinate_descent.py:530: ConvergenceWarning: Objective did not converge. You might want to increase the number of iterations. Duality gap: 0.09117078951715235, tolerance: 7.525100000000002e-05\n",
      "  model = cd_fast.enet_coordinate_descent(\n"
     ]
    }
   ],
   "source": [
    "#Melihat Keunggulan Ridge\n",
    "from sklearn.linear_model import ElasticNet\n",
    "coef=[]\n",
    "alphas = range(0,40)\n",
    "\n",
    "for a in alphas:\n",
    "        Enetreg=ElasticNet(alpha=a)\n",
    "        Enetreg.fit(X_train,y_train)\n",
    "        coef.append(Enetreg.coef_)"
   ]
  },
  {
   "cell_type": "code",
   "execution_count": null,
   "metadata": {
    "id": "MzO627bPhXKv",
    "outputId": "b110d377-cd3f-4b42-dd41-78ea6822f708"
   },
   "outputs": [
    {
     "data": {
      "image/png": "[encoded data removed]",
      "text/plain": [
       "<Figure size 1080x360 with 1 Axes>"
      ]
     },
     "metadata": {
      "needs_background": "light",
      "tags": []
     },
     "output_type": "display_data"
    }
   ],
   "source": [
    "###Membuat plot antara alpha dan koefisien\n",
    "fig=plt.figure(figsize=(15,5))\n",
    "ax=fig.add_subplot(111)\n",
    "ax.plot(alphas,coef)\n",
    "ax.set_xlabel('Alpha (Regularization Parameter)')\n",
    "ax.set_ylabel('Beta (Predictor Coefficients)')\n",
    "ax.set_title('ElasticNet Coefficients vs Regularization Parameters')\n",
    "ax.axis('tight')\n",
    "###ax.legend(loc='best')\n",
    "fig.savefig('coef_vs_alpha.png')"
   ]
  },
  {
   "cell_type": "code",
   "execution_count": null,
   "metadata": {
    "id": "hl4hUJeChXKx",
    "outputId": "ed7b7045-9bf8-416e-afdb-444f12a94788"
   },
   "outputs": [
    {
     "name": "stdout",
     "output_type": "stream",
     "text": [
      "0\n",
      "0.8320810000739857\n",
      "[ 0.17445186 -0.05775816 -0.96300566  0.16120892 -0.09288694]\n"
     ]
    },
    {
     "name": "stderr",
     "output_type": "stream",
     "text": [
      "C:\\Users\\nanah\\anaconda3\\lib\\site-packages\\sklearn\\linear_model\\_coordinate_descent.py:526: UserWarning: Coordinate descent with alpha=0 may lead to unexpected results and is discouraged.\n",
      "  model = cd_fast.enet_coordinate_descent_gram(\n",
      "C:\\Users\\nanah\\anaconda3\\lib\\site-packages\\sklearn\\linear_model\\_coordinate_descent.py:526: ConvergenceWarning: Objective did not converge. You might want to increase the number of iterations. Duality gap: 0.07898826373665646, tolerance: 6.090718750000002e-05\n",
      "  model = cd_fast.enet_coordinate_descent_gram(\n",
      "C:\\Users\\nanah\\anaconda3\\lib\\site-packages\\sklearn\\linear_model\\_coordinate_descent.py:526: UserWarning: Coordinate descent with alpha=0 may lead to unexpected results and is discouraged.\n",
      "  model = cd_fast.enet_coordinate_descent_gram(\n",
      "C:\\Users\\nanah\\anaconda3\\lib\\site-packages\\sklearn\\linear_model\\_coordinate_descent.py:526: ConvergenceWarning: Objective did not converge. You might want to increase the number of iterations. Duality gap: 0.07763600357002431, tolerance: 6.160875000000001e-05\n",
      "  model = cd_fast.enet_coordinate_descent_gram(\n",
      "C:\\Users\\nanah\\anaconda3\\lib\\site-packages\\sklearn\\linear_model\\_coordinate_descent.py:526: UserWarning: Coordinate descent with alpha=0 may lead to unexpected results and is discouraged.\n",
      "  model = cd_fast.enet_coordinate_descent_gram(\n",
      "C:\\Users\\nanah\\anaconda3\\lib\\site-packages\\sklearn\\linear_model\\_coordinate_descent.py:526: ConvergenceWarning: Objective did not converge. You might want to increase the number of iterations. Duality gap: 0.04747734085687455, tolerance: 5.246875e-05\n",
      "  model = cd_fast.enet_coordinate_descent_gram(\n",
      "C:\\Users\\nanah\\anaconda3\\lib\\site-packages\\sklearn\\linear_model\\_coordinate_descent.py:526: UserWarning: Coordinate descent with alpha=0 may lead to unexpected results and is discouraged.\n",
      "  model = cd_fast.enet_coordinate_descent_gram(\n",
      "C:\\Users\\nanah\\anaconda3\\lib\\site-packages\\sklearn\\linear_model\\_coordinate_descent.py:526: ConvergenceWarning: Objective did not converge. You might want to increase the number of iterations. Duality gap: 0.0678103108580721, tolerance: 7.116000000000002e-05\n",
      "  model = cd_fast.enet_coordinate_descent_gram(\n",
      "C:\\Users\\nanah\\anaconda3\\lib\\site-packages\\sklearn\\linear_model\\_coordinate_descent.py:526: UserWarning: Coordinate descent with alpha=0 may lead to unexpected results and is discouraged.\n",
      "  model = cd_fast.enet_coordinate_descent_gram(\n",
      "C:\\Users\\nanah\\anaconda3\\lib\\site-packages\\sklearn\\linear_model\\_coordinate_descent.py:526: ConvergenceWarning: Objective did not converge. You might want to increase the number of iterations. Duality gap: 0.07711991091209552, tolerance: 5.4289687500000006e-05\n",
      "  model = cd_fast.enet_coordinate_descent_gram(\n",
      "C:\\Users\\nanah\\anaconda3\\lib\\site-packages\\sklearn\\linear_model\\_coordinate_descent.py:1349: UserWarning: With alpha=0, this algorithm does not converge well. You are advised to use the LinearRegression estimator\n",
      "  model.fit(X, y)\n",
      "C:\\Users\\nanah\\anaconda3\\lib\\site-packages\\sklearn\\linear_model\\_coordinate_descent.py:530: UserWarning: Coordinate descent with no regularization may lead to unexpected results and is discouraged.\n",
      "  model = cd_fast.enet_coordinate_descent(\n",
      "C:\\Users\\nanah\\anaconda3\\lib\\site-packages\\sklearn\\linear_model\\_coordinate_descent.py:530: ConvergenceWarning: Objective did not converge. You might want to increase the number of iterations. Duality gap: 0.09117078951715235, tolerance: 7.525100000000002e-05\n",
      "  model = cd_fast.enet_coordinate_descent(\n"
     ]
    }
   ],
   "source": [
    "#Membangun model regresi ElasticNetCV dengan nilai alpha terbaik\n",
    "from sklearn.linear_model import ElasticNetCV\n",
    "Enet_cv=ElasticNetCV(alphas=range(1),l1_ratio=0.5)\n",
    "model_cv=Enet_cv.fit(X_train,y_train)\n",
    "\n",
    "#alpha terbaik\n",
    "print(model_cv.alpha_)\n",
    "\n",
    "#Parameter regresi ElasticNetCV\n",
    "print(model_cv.intercept_)\n",
    "print(model_cv.coef_)"
   ]
  },
  {
   "cell_type": "code",
   "execution_count": null,
   "metadata": {
    "id": "oDRysum8hXKy",
    "outputId": "c39b0b6a-1284-4d4a-d056-f4b75f079f83"
   },
   "outputs": [
    {
     "data": {
      "text/html": [
       "<div>\n",
       "<style scoped>\n",
       "    .dataframe tbody tr th:only-of-type {\n",
       "        vertical-align: middle;\n",
       "    }\n",
       "\n",
       "    .dataframe tbody tr th {\n",
       "        vertical-align: top;\n",
       "    }\n",
       "\n",
       "    .dataframe thead th {\n",
       "        text-align: right;\n",
       "    }\n",
       "</style>\n",
       "<table border=\"1\" class=\"dataframe\">\n",
       "  <thead>\n",
       "    <tr style=\"text-align: right;\">\n",
       "      <th></th>\n",
       "      <th>lb_stat</th>\n",
       "      <th>lb_pvalue</th>\n",
       "    </tr>\n",
       "  </thead>\n",
       "  <tbody>\n",
       "    <tr>\n",
       "      <th>20</th>\n",
       "      <td>27.393227</td>\n",
       "      <td>0.124559</td>\n",
       "    </tr>\n",
       "  </tbody>\n",
       "</table>\n",
       "</div>"
      ],
      "text/plain": [
       "      lb_stat  lb_pvalue\n",
       "20  27.393227   0.124559"
      ]
     },
     "execution_count": 148,
     "metadata": {
      "tags": []
     },
     "output_type": "execute_result"
    }
   ],
   "source": [
    "#Cek autokorelasi\n",
    "import statsmodels.api as sm\n",
    "residual1=y_train-(model_cv.predict(X_train))\n",
    "sm.stats.diagnostic.acorr_ljungbox(residual1,lags=[20],return_df=True)"
   ]
  },
  {
   "cell_type": "code",
   "execution_count": null,
   "metadata": {
    "id": "ubWDb9T-hXKy",
    "outputId": "6ad2717a-0c10-4265-d21e-26719b723c01"
   },
   "outputs": [
    {
     "name": "stdout",
     "output_type": "stream",
     "text": [
      "{'LM Statistic': 17.734611868654852, 'LM-Test p-value': 0.0013905178140421056, 'F-Statistic': 5.575572379347693, 'F-Test p-value': 0.0007026611619787542}\n"
     ]
    }
   ],
   "source": [
    "#Cek Homoskesdastisitas\n",
    "bp_test=sm.stats.diagnostic.het_breuschpagan(residual1,X_train)\n",
    "labels = [\"LM Statistic\", \"LM-Test p-value\", \"F-Statistic\", \"F-Test p-value\"]\n",
    "print(dict(zip(labels, bp_test)))"
   ]
  },
  {
   "cell_type": "code",
   "execution_count": null,
   "metadata": {
    "id": "4KPNWnGOhXKz",
    "outputId": "2a53d5d8-bace-452a-e053-2b6c87fd9292"
   },
   "outputs": [
    {
     "data": {
      "text/plain": [
       "Jarque_beraResult(statistic=4.004709277707946, pvalue=0.1350169923974377)"
      ]
     },
     "execution_count": 150,
     "metadata": {
      "tags": []
     },
     "output_type": "execute_result"
    }
   ],
   "source": [
    "#Cek Normalitas\n",
    "import scipy\n",
    "scipy.stats.jarque_bera(residual1)"
   ]
  },
  {
   "cell_type": "markdown",
   "metadata": {
    "id": "_Vk2Ycf5hXK0"
   },
   "source": [
    "#### Evaluasi Model"
   ]
  },
  {
   "cell_type": "code",
   "execution_count": null,
   "metadata": {
    "id": "dA8t_TAmhXK1",
    "outputId": "a9245c4b-45f0-4e6e-b45c-f41c9e1124cd"
   },
   "outputs": [
    {
     "data": {
      "text/plain": [
       "3.9801746518080217"
      ]
     },
     "execution_count": 151,
     "metadata": {
      "tags": []
     },
     "output_type": "execute_result"
    }
   ],
   "source": [
    "#MSE\n",
    "pred_Enet=model_cv.predict(X_test)\n",
    "mean_squared_error(y_test,pred_Enet)"
   ]
  }
 ],
 "metadata": {
  "colab": {
   "name": "Regression.ipynb",
   "provenance": []
  },
  "kernelspec": {
   "display_name": "Python 3",
   "language": "python",
   "name": "python3"
  },
  "language_info": {
   "codemirror_mode": {
    "name": "ipython",
    "version": 3
   },
   "file_extension": ".py",
   "mimetype": "text/x-python",
   "name": "python",
   "nbconvert_exporter": "python",
   "pygments_lexer": "ipython3",
   "version": "3.8.5"
  }
 },
 "nbformat": 4,
 "nbformat_minor": 1
}
